{
 "cells": [
  {
   "cell_type": "code",
   "execution_count": 38,
   "metadata": {},
   "outputs": [
    {
     "name": "stdout",
     "output_type": "stream",
     "text": [
      "Collecting git+https://github.com/SebMilardo/multiqueue\n",
      "  Cloning https://github.com/SebMilardo/multiqueue to /private/var/folders/dd/8g47btbn3r51stt80t5hbhzr0000gn/T/pip-req-build-4j7r50_r\n",
      "  Running command git clone -q https://github.com/SebMilardo/multiqueue /private/var/folders/dd/8g47btbn3r51stt80t5hbhzr0000gn/T/pip-req-build-4j7r50_r\n",
      "Requirement already satisfied: tqdm in /usr/local/lib/python3.7/site-packages (from multiqueue==0.1) (4.31.0)\n",
      "Building wheels for collected packages: multiqueue\n",
      "  Building wheel for multiqueue (setup.py) ... \u001b[?25ldone\n",
      "\u001b[?25h  Stored in directory: /private/var/folders/dd/8g47btbn3r51stt80t5hbhzr0000gn/T/pip-ephem-wheel-cache-lojycq_g/wheels/3e/ad/21/eec2a884031f08f090a1a4e11d28e61699906f9058f72b463c\n",
      "Successfully built multiqueue\n",
      "Installing collected packages: multiqueue\n",
      "Successfully installed multiqueue-0.1\n"
     ]
    }
   ],
   "source": [
    "!pip3 install git+https://github.com/SebMilardo/multiqueue"
   ]
  },
  {
   "cell_type": "code",
   "execution_count": 41,
   "metadata": {},
   "outputs": [],
   "source": [
    "from multiqueue import multiqueue"
   ]
  },
  {
   "cell_type": "code",
   "execution_count": 42,
   "metadata": {},
   "outputs": [
    {
     "name": "stdout",
     "output_type": "stream",
     "text": [
      "0\n",
      "1\n",
      "2\n"
     ]
    },
    {
     "data": {
      "application/vnd.jupyter.widget-view+json": {
       "model_id": "54bdb499980c46d393b8f22a29ade5f7",
       "version_major": 2,
       "version_minor": 0
      },
      "text/plain": [
       "HBox(children=(IntProgress(value=0, max=10), HTML(value='')))"
      ]
     },
     "metadata": {},
     "output_type": "display_data"
    },
    {
     "name": "stdout",
     "output_type": "stream",
     "text": [
      "3\n",
      "4\n",
      "5\n",
      "67\n",
      "\n",
      "8\n",
      "9\n"
     ]
    }
   ],
   "source": [
    "def a_test(x):\n",
    "    print(x)\n",
    "    time.sleep(4)\n",
    "    return True, x*2\n",
    "\n",
    "res = multiqueue(list(range(10)), function=a_test)"
   ]
  },
  {
   "cell_type": "code",
   "execution_count": 7,
   "metadata": {},
   "outputs": [
    {
     "data": {
      "application/vnd.jupyter.widget-view+json": {
       "model_id": "d341a01515c047bdacfa4eac77f09cf5",
       "version_major": 2,
       "version_minor": 0
      },
      "text/plain": [
       "HBox(children=(IntProgress(value=0, max=10), HTML(value='')))"
      ]
     },
     "metadata": {},
     "output_type": "display_data"
    }
   ],
   "source": [
    "res = [a_test(x) for x in tqdm_notebook(range(10))]"
   ]
  },
  {
   "cell_type": "code",
   "execution_count": 37,
   "metadata": {},
   "outputs": [
    {
     "data": {
      "text/plain": [
       "[[0, 0],\n",
       " [1, 2],\n",
       " [2, 4],\n",
       " [3, 6],\n",
       " [4, 8],\n",
       " [5, 10],\n",
       " [6, 12],\n",
       " [7, 14],\n",
       " [8, 16],\n",
       " [9, 18]]"
      ]
     },
     "execution_count": 37,
     "metadata": {},
     "output_type": "execute_result"
    }
   ],
   "source": [
    "res"
   ]
  },
  {
   "cell_type": "code",
   "execution_count": null,
   "metadata": {},
   "outputs": [],
   "source": []
  }
 ],
 "metadata": {
  "kernelspec": {
   "display_name": "Python 3",
   "language": "python",
   "name": "python3"
  },
  "language_info": {
   "codemirror_mode": {
    "name": "ipython",
    "version": 3
   },
   "file_extension": ".py",
   "mimetype": "text/x-python",
   "name": "python",
   "nbconvert_exporter": "python",
   "pygments_lexer": "ipython3",
   "version": "3.7.3"
  }
 },
 "nbformat": 4,
 "nbformat_minor": 2
}
