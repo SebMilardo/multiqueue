{
 "cells": [
  {
   "cell_type": "code",
   "execution_count": 31,
   "metadata": {},
   "outputs": [],
   "source": [
    "import threading\n",
    "import multiprocessing\n",
    "import queue\n",
    "from tqdm import tqdm_notebook\n",
    "import time\n",
    "\n",
    "class CheckerThread(threading.Thread):\n",
    "    def __init__(self, q_done, expc, th_list, name=None):\n",
    "        super(CheckerThread, self).__init__()\n",
    "        self.name = name\n",
    "        self.kill_me = False\n",
    "        self.th_list = th_list\n",
    "        self.q_done = q_done\n",
    "        self.expc = expc\n",
    "        return\n",
    "\n",
    "    def run(self):\n",
    "        last = 0\n",
    "        with tqdm_notebook(total=self.expc) as tq:\n",
    "            while self.q_done.qsize() < self.expc and self.kill_me is False:\n",
    "                new = self.q_done.qsize()\n",
    "                tq.update(new - last)\n",
    "                time.sleep(1)\n",
    "                last = new\n",
    "            if self.q_done.qsize() == self.expc:\n",
    "                tq.update(self.expc - last)\n",
    "        for t in self.th_list:\n",
    "            t.stop()\n",
    "        return\n",
    "\n",
    "    def stop(self):\n",
    "        for t in self.th_list:\n",
    "            t.stop()\n",
    "        self.kill_me = True\n",
    "\n",
    "\n",
    "class ConsumerProducerThread(threading.Thread):\n",
    "    def __init__(self, q_todo, q_done, expc, function, name=None):\n",
    "        super(ConsumerProducerThread, self).__init__()\n",
    "        self.name = name\n",
    "        self.kill_me = False\n",
    "        self.q_todo = q_todo\n",
    "        self.q_done = q_done\n",
    "        self.function = function\n",
    "        self.expc = expc\n",
    "        return\n",
    "        \n",
    "    def logic(self):\n",
    "        if not self.q_todo.empty():\n",
    "            item = self.q_todo.get()\n",
    "            is_ok, output = self.function(item)\n",
    "            if not is_ok:\n",
    "                self.q_todo.put(item)\n",
    "            else:\n",
    "                self.q_done.put([item, output])\n",
    "\n",
    "    def run(self):\n",
    "        while self.q_done.qsize() < self.expc and self.kill_me is False:\n",
    "            self.logic()\n",
    "        return\n",
    "\n",
    "    def stop(self):\n",
    "        self.kill_me = True\n",
    "\n",
    "\n",
    "def multiqueue(input_list, function, n_cores=None, expc=None):\n",
    "    if n_cores is None:\n",
    "        cores = multiprocessing.cpu_count()\n",
    "        n_cores = max(1, cores-1)\n",
    "\n",
    "    if expc is None:\n",
    "        expc = len(input_list)\n",
    "    \n",
    "    q_todo = queue.Queue()\n",
    "    q_done = queue.Queue()\n",
    "    for i in input_list:\n",
    "        q_todo.put(i) \n",
    "    \n",
    "    th = [ConsumerProducerThread(q_todo, q_done, expc, function, name='th' + str(i)) for i in range(n_cores)]\n",
    "    for t in th:\n",
    "        t.start()\n",
    "\n",
    "    ch = CheckerThread(q_done, expc, th, name=\"th\" + str(n_cores))\n",
    "    ch.start()\n",
    "    try:\n",
    "        ch.join()\n",
    "    except (Exception, KeyboardInterrupt) as e: \n",
    "        for t in th:\n",
    "            t.stop()\n",
    "        print(e)\n",
    "        ch.join()\n",
    "        \n",
    "    return list(q_done.queue)"
   ]
  },
  {
   "cell_type": "code",
   "execution_count": null,
   "metadata": {},
   "outputs": [
    {
     "name": "stdout",
     "output_type": "stream",
     "text": [
      "012\n",
      "\n",
      "\n"
     ]
    },
    {
     "data": {
      "application/vnd.jupyter.widget-view+json": {
       "model_id": "85afa197bb554dacb42f2025fe4f84bb",
       "version_major": 2,
       "version_minor": 0
      },
      "text/plain": [
       "HBox(children=(IntProgress(value=0, max=10), HTML(value='')))"
      ]
     },
     "metadata": {},
     "output_type": "display_data"
    },
    {
     "name": "stdout",
     "output_type": "stream",
     "text": [
      "\n"
     ]
    }
   ],
   "source": [
    "def a_test(x):\n",
    "    print(x)\n",
    "    time.sleep(4)\n",
    "    return True, x*2\n",
    "\n",
    "res = multiqueue(list(range(10)), function=a_test)"
   ]
  },
  {
   "cell_type": "code",
   "execution_count": 7,
   "metadata": {},
   "outputs": [
    {
     "data": {
      "application/vnd.jupyter.widget-view+json": {
       "model_id": "d341a01515c047bdacfa4eac77f09cf5",
       "version_major": 2,
       "version_minor": 0
      },
      "text/plain": [
       "HBox(children=(IntProgress(value=0, max=10), HTML(value='')))"
      ]
     },
     "metadata": {},
     "output_type": "display_data"
    }
   ],
   "source": [
    "res = [a_test(x) for x in tqdm_notebook(range(10))]"
   ]
  },
  {
   "cell_type": "code",
   "execution_count": 30,
   "metadata": {},
   "outputs": [
    {
     "data": {
      "text/plain": [
       "[[1, 2], [0, 0], [2, 4]]"
      ]
     },
     "execution_count": 30,
     "metadata": {},
     "output_type": "execute_result"
    }
   ],
   "source": [
    "res"
   ]
  },
  {
   "cell_type": "code",
   "execution_count": null,
   "metadata": {},
   "outputs": [],
   "source": []
  }
 ],
 "metadata": {
  "kernelspec": {
   "display_name": "Python 3",
   "language": "python",
   "name": "python3"
  },
  "language_info": {
   "codemirror_mode": {
    "name": "ipython",
    "version": 3
   },
   "file_extension": ".py",
   "mimetype": "text/x-python",
   "name": "python",
   "nbconvert_exporter": "python",
   "pygments_lexer": "ipython3",
   "version": "3.7.3"
  }
 },
 "nbformat": 4,
 "nbformat_minor": 2
}
